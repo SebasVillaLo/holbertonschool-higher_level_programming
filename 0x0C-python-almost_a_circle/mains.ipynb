{
 "cells": [
  {
   "cell_type": "code",
   "execution_count": 1,
   "metadata": {},
   "outputs": [
    {
     "name": "stdout",
     "output_type": "stream",
     "text": [
      "1\n",
      "2\n",
      "12\n"
     ]
    }
   ],
   "source": [
    "#!/usr/bin/python3\n",
    "\"\"\" 1-main \"\"\"\n",
    "from models.rectangle import Rectangle\n",
    "\n",
    "if __name__ == \"__main__\":\n",
    "\n",
    "    r1 = Rectangle(10, 2)\n",
    "    print(r1.id)\n",
    "\n",
    "    r2 = Rectangle(2, 10)\n",
    "    print(r2.id)\n",
    "\n",
    "    r3 = Rectangle(10, 2, 0, 0, 12)\n",
    "    print(r3.id)"
   ]
  },
  {
   "cell_type": "code",
   "execution_count": 2,
   "metadata": {},
   "outputs": [
    {
     "name": "stdout",
     "output_type": "stream",
     "text": [
      "[Square] (3) 0/0 - 5\n",
      "25\n",
      "#####\n",
      "#####\n",
      "#####\n",
      "#####\n",
      "#####\n",
      "---\n",
      "[Square] (4) 2/0 - 2\n",
      "4\n",
      "  ##\n",
      "  ##\n",
      "---\n",
      "[Square] (5) 1/3 - 3\n",
      "9\n",
      "\n",
      "\n",
      "\n",
      " ###\n",
      " ###\n",
      " ###\n"
     ]
    }
   ],
   "source": [
    "#!/usr/bin/python3\n",
    "\"\"\" 9-main \"\"\"\n",
    "from models.square import Square\n",
    "\n",
    "if __name__ == \"__main__\":\n",
    "\n",
    "    s1 = Square(5)\n",
    "    print(s1)\n",
    "    print(s1.area())\n",
    "    s1.display()\n",
    "\n",
    "    print(\"---\")\n",
    "\n",
    "    s2 = Square(2, 2)\n",
    "    print(s2)\n",
    "    print(s2.area())\n",
    "    s2.display()\n",
    "\n",
    "    print(\"---\")\n",
    "\n",
    "    s3 = Square(3, 1, 3)\n",
    "    print(s3)\n",
    "    print(s3.area())\n",
    "    s3.display()"
   ]
  },
  {
   "cell_type": "code",
   "execution_count": 1,
   "metadata": {},
   "outputs": [
    {
     "name": "stdout",
     "output_type": "stream",
     "text": [
      "[Square] (1) 0/0 - 5\n",
      "[Square] (10) 0/0 - 5\n",
      "[Square] (1) 0/0 - 2\n",
      "[Square] (1) 3/0 - 2\n",
      "[Square] (1) 3/4 - 2\n",
      "[Square] (12) 3/4 - 2\n",
      "[Square] (12) 3/4 - 2\n",
      "[Square] (12) 3/4 - 2\n"
     ]
    }
   ],
   "source": [
    "#!/usr/bin/python3\n",
    "\"\"\" 11-main \"\"\"\n",
    "from models.square import Square\n",
    "\n",
    "if __name__ == \"__main__\":\n",
    "\n",
    "    s1 = Square(5)\n",
    "    print(s1)\n",
    "\n",
    "    s1.update(10)\n",
    "    print(s1)\n",
    "\n",
    "    s1.update(1, 2)\n",
    "    print(s1)\n",
    "\n",
    "    s1.update(1, 2, 3)\n",
    "    print(s1)\n",
    "\n",
    "    s1.update(1, 2, 3, 4)\n",
    "    print(s1)\n",
    "\n",
    "    s1.update(x=12)\n",
    "    print(s1)\n",
    "\n",
    "    s1.update(size=7, y=1)\n",
    "    print(s1)\n",
    "\n",
    "    s1.update(size=7, id=89, y=1)\n",
    "    print(s1)"
   ]
  }
 ],
 "metadata": {
  "interpreter": {
   "hash": "916dbcbb3f70747c44a77c7bcd40155683ae19c65e1c03b4aa3499c5328201f1"
  },
  "kernelspec": {
   "display_name": "Python 3.8.10 64-bit",
   "name": "python3"
  },
  "language_info": {
   "codemirror_mode": {
    "name": "ipython",
    "version": 3
   },
   "file_extension": ".py",
   "mimetype": "text/x-python",
   "name": "python",
   "nbconvert_exporter": "python",
   "pygments_lexer": "ipython3",
   "version": "3.8.10"
  },
  "orig_nbformat": 4
 },
 "nbformat": 4,
 "nbformat_minor": 2
}
